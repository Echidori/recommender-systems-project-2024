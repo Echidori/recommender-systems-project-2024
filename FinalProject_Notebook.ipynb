{
 "cells": [
  {
   "cell_type": "markdown",
   "source": [
    "# Final Projet: Movie Pairing System\n",
    "In order to use the data necessary, please download the `ml-1m`, `title.basics.tsv` and `title.crew.tsv` datasets, which can be done directly using the `data_download.sh` shell script provided, or by running the first cell of this notebook.\n",
    "### Why those 3 datasets ?\n",
    "The `ml-1m` dataset is chosen as it contains 1 million reviews for around 4 thousand movies, which makes for a good amount in order to recommend movies later down the line. the `title.basics.tsv` dataset contains an enormous amount of on movies, with more information that seen on the `ml-1m` dataset, but unfortunately does not contain reviews, and contains much more than movies, so it needs to be properly cleaned up. The `title.crew.tsv` dataset is chosen as a complimentary dataset, as it contains additional information for the movies, including the directors, which will be used as a feature in our model. At first, the `names.basic.tsv` dataset was used instead, but it was very soon clear that it would require more work to extract the same information, and could give false information as well (such an example being Clint Eastwood, which would be put as a director in movies he acted in). As such, to avoid mistakes and potential problems, it was dropped in favor of `title.crew.tsv`. While we do not have the actual names, this is not a problem for the model."
   ],
   "metadata": {
    "collapsed": false
   }
  },
  {
   "cell_type": "code",
   "execution_count": 21,
   "outputs": [
    {
     "name": "stdout",
     "output_type": "stream",
     "text": [
      "Movielens data already downloaded\n",
      "imdb data already downloaded\n"
     ]
    }
   ],
   "source": [
    "%%bash\n",
    "if [ ! -d \"data/movielens_latest\" ];\n",
    "then\n",
    "    wget http://files.grouplens.org/datasets/movielens/ml-1m.zip\n",
    "    mkdir -p data/movielens_latest\n",
    "    unzip -o ml-1m.zip -d data/movielens_latest;\n",
    "else\n",
    "    echo \"Movielens data already downloaded\";\n",
    "fi\n",
    "\n",
    "if [ ! -d \"data/imdb\" ];\n",
    "then\n",
    "    mkdir data/imdb\n",
    "    wget https://datasets.imdbws.com/title.crew.tsv.gz\n",
    "    gunzip -c title.crew.tsv.gz > data/imdb/title.crew.tsv;\n",
    "    wget https://datasets.imdbws.com/title.basics.tsv.gz\n",
    "    gunzip -c title.basics.tsv.gz > data/imdb/title.basics.tsv;\n",
    "else\n",
    "    echo \"imdb data already downloaded\";\n",
    "fi"
   ],
   "metadata": {
    "collapsed": false,
    "ExecuteTime": {
     "end_time": "2024-07-07T21:45:20.294730Z",
     "start_time": "2024-07-07T21:45:14.511073800Z"
    }
   }
  },
  {
   "cell_type": "code",
   "execution_count": 23,
   "outputs": [
    {
     "ename": "ModuleNotFoundError",
     "evalue": "No module named 'tensorflow'",
     "output_type": "error",
     "traceback": [
      "\u001B[1;31m---------------------------------------------------------------------------\u001B[0m",
      "\u001B[1;31mModuleNotFoundError\u001B[0m                       Traceback (most recent call last)",
      "Cell \u001B[1;32mIn[23], line 8\u001B[0m\n\u001B[0;32m      6\u001B[0m \u001B[38;5;28;01mfrom\u001B[39;00m \u001B[38;5;21;01msklearn\u001B[39;00m\u001B[38;5;21;01m.\u001B[39;00m\u001B[38;5;21;01mmetrics\u001B[39;00m \u001B[38;5;28;01mimport\u001B[39;00m precision_score\n\u001B[0;32m      7\u001B[0m \u001B[38;5;28;01mfrom\u001B[39;00m \u001B[38;5;21;01mtyping\u001B[39;00m \u001B[38;5;28;01mimport\u001B[39;00m Tuple, Union\n\u001B[1;32m----> 8\u001B[0m \u001B[38;5;28;01mimport\u001B[39;00m \u001B[38;5;21;01mtensorflow\u001B[39;00m \u001B[38;5;28;01mas\u001B[39;00m \u001B[38;5;21;01mtf\u001B[39;00m\n",
      "\u001B[1;31mModuleNotFoundError\u001B[0m: No module named 'tensorflow'"
     ]
    }
   ],
   "source": [
    "# Imports for the project\n",
    "import pandas as pd\n",
    "import re\n",
    "import random\n",
    "import numpy as np\n",
    "from sklearn.metrics import precision_score\n",
    "from typing import Tuple, Union\n",
    "import tensorflow as tf"
   ],
   "metadata": {
    "collapsed": false,
    "ExecuteTime": {
     "end_time": "2024-07-07T21:45:35.562446900Z",
     "start_time": "2024-07-07T21:45:35.525392100Z"
    }
   }
  },
  {
   "cell_type": "markdown",
   "source": [
    "## Data Analysis and Feature Engineering\n",
    "In this section, we check the integrity of the downloaded files before fusing them and making some adjustments to them. First, we look at IMDB."
   ],
   "metadata": {
    "collapsed": false
   }
  },
  {
   "cell_type": "code",
   "execution_count": null,
   "outputs": [],
   "source": [
    "df_crew_basics = pd.read_csv(\"data/imdb/title.crew.tsv\", sep='\\t')\n",
    "df_title_basics =  pd.read_csv(\"data/imdb/title.basics.tsv\", sep='\\t', low_memory=False)\n",
    "df_title_basics"
   ],
   "metadata": {
    "collapsed": false
   }
  },
  {
   "cell_type": "markdown",
   "source": [
    "We drop all titles that aren't movies from the titles dataset, merge both datasets on `tconst`, and keep only the `primaryTitle`,`startYear`, and `directors` columns."
   ],
   "metadata": {
    "collapsed": false
   }
  },
  {
   "cell_type": "code",
   "execution_count": 6,
   "outputs": [
    {
     "data": {
      "text/plain": "                                             primaryTitle startYear  \\\n0                                              Miss Jerry      1894   \n1                           The Corbett-Fitzsimmons Fight      1897   \n2                                                Bohemios      1905   \n3                             The Story of the Kelly Gang      1906   \n4                                        The Prodigal Son      1907   \n...                                                   ...       ...   \n685588        Rodolpho Teóphilo - O Legado de um Pioneiro      2015   \n685589  De la ilusión al desconcierto: cine colombiano...      2007   \n685590                                    Dankyavar Danka      2013   \n685591                                             6 Gunn      2017   \n685592                     Chico Albuquerque - Revelações      2013   \n\n                  directors  \n0                 nm0085156  \n1                 nm0714557  \n2                 nm0063413  \n3                 nm0846879  \n4                 nm0141150  \n...                     ...  \n685588  nm9272490,nm9272491  \n685589            nm0652213  \n685590            nm7764440  \n685591           nm10538612  \n685592  nm9272490,nm8349149  \n\n[685593 rows x 3 columns]",
      "text/html": "<div>\n<style scoped>\n    .dataframe tbody tr th:only-of-type {\n        vertical-align: middle;\n    }\n\n    .dataframe tbody tr th {\n        vertical-align: top;\n    }\n\n    .dataframe thead th {\n        text-align: right;\n    }\n</style>\n<table border=\"1\" class=\"dataframe\">\n  <thead>\n    <tr style=\"text-align: right;\">\n      <th></th>\n      <th>primaryTitle</th>\n      <th>startYear</th>\n      <th>directors</th>\n    </tr>\n  </thead>\n  <tbody>\n    <tr>\n      <th>0</th>\n      <td>Miss Jerry</td>\n      <td>1894</td>\n      <td>nm0085156</td>\n    </tr>\n    <tr>\n      <th>1</th>\n      <td>The Corbett-Fitzsimmons Fight</td>\n      <td>1897</td>\n      <td>nm0714557</td>\n    </tr>\n    <tr>\n      <th>2</th>\n      <td>Bohemios</td>\n      <td>1905</td>\n      <td>nm0063413</td>\n    </tr>\n    <tr>\n      <th>3</th>\n      <td>The Story of the Kelly Gang</td>\n      <td>1906</td>\n      <td>nm0846879</td>\n    </tr>\n    <tr>\n      <th>4</th>\n      <td>The Prodigal Son</td>\n      <td>1907</td>\n      <td>nm0141150</td>\n    </tr>\n    <tr>\n      <th>...</th>\n      <td>...</td>\n      <td>...</td>\n      <td>...</td>\n    </tr>\n    <tr>\n      <th>685588</th>\n      <td>Rodolpho Teóphilo - O Legado de um Pioneiro</td>\n      <td>2015</td>\n      <td>nm9272490,nm9272491</td>\n    </tr>\n    <tr>\n      <th>685589</th>\n      <td>De la ilusión al desconcierto: cine colombiano...</td>\n      <td>2007</td>\n      <td>nm0652213</td>\n    </tr>\n    <tr>\n      <th>685590</th>\n      <td>Dankyavar Danka</td>\n      <td>2013</td>\n      <td>nm7764440</td>\n    </tr>\n    <tr>\n      <th>685591</th>\n      <td>6 Gunn</td>\n      <td>2017</td>\n      <td>nm10538612</td>\n    </tr>\n    <tr>\n      <th>685592</th>\n      <td>Chico Albuquerque - Revelações</td>\n      <td>2013</td>\n      <td>nm9272490,nm8349149</td>\n    </tr>\n  </tbody>\n</table>\n<p>685593 rows × 3 columns</p>\n</div>"
     },
     "execution_count": 6,
     "metadata": {},
     "output_type": "execute_result"
    }
   ],
   "source": [
    "df_title_basics = df_title_basics.drop(df_title_basics[df_title_basics['titleType'] != 'movie'].index)\n",
    "df_imdb = pd.merge(df_title_basics, df_crew_basics, on='tconst', how='left')\n",
    "df_imdb = df_imdb[['primaryTitle', 'startYear', 'directors']]\n",
    "df_imdb"
   ],
   "metadata": {
    "collapsed": false,
    "ExecuteTime": {
     "end_time": "2024-07-07T21:30:18.453032600Z",
     "start_time": "2024-07-07T21:30:13.286600400Z"
    }
   }
  },
  {
   "cell_type": "markdown",
   "source": [
    "We then look at the movielens dataset:"
   ],
   "metadata": {
    "collapsed": false
   }
  },
  {
   "cell_type": "code",
   "execution_count": 7,
   "outputs": [
    {
     "data": {
      "text/plain": "      MovieId                               Title  \\\n0           1                    Toy Story (1995)   \n1           2                      Jumanji (1995)   \n2           3             Grumpier Old Men (1995)   \n3           4            Waiting to Exhale (1995)   \n4           5  Father of the Bride Part II (1995)   \n...       ...                                 ...   \n3878     3948             Meet the Parents (2000)   \n3879     3949          Requiem for a Dream (2000)   \n3880     3950                    Tigerland (2000)   \n3881     3951             Two Family House (2000)   \n3882     3952               Contender, The (2000)   \n\n                            Genres  \n0      Animation|Children's|Comedy  \n1     Adventure|Children's|Fantasy  \n2                   Comedy|Romance  \n3                     Comedy|Drama  \n4                           Comedy  \n...                            ...  \n3878                        Comedy  \n3879                         Drama  \n3880                         Drama  \n3881                         Drama  \n3882                Drama|Thriller  \n\n[3883 rows x 3 columns]",
      "text/html": "<div>\n<style scoped>\n    .dataframe tbody tr th:only-of-type {\n        vertical-align: middle;\n    }\n\n    .dataframe tbody tr th {\n        vertical-align: top;\n    }\n\n    .dataframe thead th {\n        text-align: right;\n    }\n</style>\n<table border=\"1\" class=\"dataframe\">\n  <thead>\n    <tr style=\"text-align: right;\">\n      <th></th>\n      <th>MovieId</th>\n      <th>Title</th>\n      <th>Genres</th>\n    </tr>\n  </thead>\n  <tbody>\n    <tr>\n      <th>0</th>\n      <td>1</td>\n      <td>Toy Story (1995)</td>\n      <td>Animation|Children's|Comedy</td>\n    </tr>\n    <tr>\n      <th>1</th>\n      <td>2</td>\n      <td>Jumanji (1995)</td>\n      <td>Adventure|Children's|Fantasy</td>\n    </tr>\n    <tr>\n      <th>2</th>\n      <td>3</td>\n      <td>Grumpier Old Men (1995)</td>\n      <td>Comedy|Romance</td>\n    </tr>\n    <tr>\n      <th>3</th>\n      <td>4</td>\n      <td>Waiting to Exhale (1995)</td>\n      <td>Comedy|Drama</td>\n    </tr>\n    <tr>\n      <th>4</th>\n      <td>5</td>\n      <td>Father of the Bride Part II (1995)</td>\n      <td>Comedy</td>\n    </tr>\n    <tr>\n      <th>...</th>\n      <td>...</td>\n      <td>...</td>\n      <td>...</td>\n    </tr>\n    <tr>\n      <th>3878</th>\n      <td>3948</td>\n      <td>Meet the Parents (2000)</td>\n      <td>Comedy</td>\n    </tr>\n    <tr>\n      <th>3879</th>\n      <td>3949</td>\n      <td>Requiem for a Dream (2000)</td>\n      <td>Drama</td>\n    </tr>\n    <tr>\n      <th>3880</th>\n      <td>3950</td>\n      <td>Tigerland (2000)</td>\n      <td>Drama</td>\n    </tr>\n    <tr>\n      <th>3881</th>\n      <td>3951</td>\n      <td>Two Family House (2000)</td>\n      <td>Drama</td>\n    </tr>\n    <tr>\n      <th>3882</th>\n      <td>3952</td>\n      <td>Contender, The (2000)</td>\n      <td>Drama|Thriller</td>\n    </tr>\n  </tbody>\n</table>\n<p>3883 rows × 3 columns</p>\n</div>"
     },
     "execution_count": 7,
     "metadata": {},
     "output_type": "execute_result"
    }
   ],
   "source": [
    "m_cols = ['MovieId', 'Title', 'Genres']\n",
    "df_movielens = pd.read_csv('data/movielens_latest/ml-1m/movies.dat', sep='::', engine='python', encoding='latin-1', names=m_cols)\n",
    "r_cols = ['UserId', 'MovieId', 'Rating', 'Timestamp']\n",
    "df_ratings = pd.read_csv('data/movielens_latest/ml-1m/ratings.dat', sep='::', engine='python', encoding='latin-1', names=r_cols)\n",
    "u_cols = ['UserID', 'Gender', 'Age', 'Occupation', 'Zip-code']\n",
    "df_users = pd.read_csv('data/movielens_latest/ml-1m/users.dat', sep='::', engine='python', encoding='latin-1', names=u_cols)\n",
    "df_movielens"
   ],
   "metadata": {
    "collapsed": false,
    "ExecuteTime": {
     "end_time": "2024-07-07T21:30:23.065598400Z",
     "start_time": "2024-07-07T21:30:18.458087200Z"
    }
   }
  },
  {
   "cell_type": "markdown",
   "source": [
    "In order to have the same format as the IMDB files we want to clean up the titles by removing the date in the title and putting them in a separate column, then put the titles in lowercase. We'll put the titles in lowercase on the IMDB database later on as well."
   ],
   "metadata": {
    "collapsed": false
   }
  },
  {
   "cell_type": "code",
   "execution_count": 8,
   "outputs": [
    {
     "data": {
      "text/plain": "      MovieId                        Title                        Genres  Year\n0           1                    toy story   Animation|Children's|Comedy  1995\n1           2                      jumanji  Adventure|Children's|Fantasy  1995\n2           3             grumpier old men                Comedy|Romance  1995\n3           4            waiting to exhale                  Comedy|Drama  1995\n4           5  father of the bride part ii                        Comedy  1995\n...       ...                          ...                           ...   ...\n3878     3948             meet the parents                        Comedy  2000\n3879     3949          requiem for a dream                         Drama  2000\n3880     3950                    tigerland                         Drama  2000\n3881     3951             two family house                         Drama  2000\n3882     3952                the contender                Drama|Thriller  2000\n\n[3883 rows x 4 columns]",
      "text/html": "<div>\n<style scoped>\n    .dataframe tbody tr th:only-of-type {\n        vertical-align: middle;\n    }\n\n    .dataframe tbody tr th {\n        vertical-align: top;\n    }\n\n    .dataframe thead th {\n        text-align: right;\n    }\n</style>\n<table border=\"1\" class=\"dataframe\">\n  <thead>\n    <tr style=\"text-align: right;\">\n      <th></th>\n      <th>MovieId</th>\n      <th>Title</th>\n      <th>Genres</th>\n      <th>Year</th>\n    </tr>\n  </thead>\n  <tbody>\n    <tr>\n      <th>0</th>\n      <td>1</td>\n      <td>toy story</td>\n      <td>Animation|Children's|Comedy</td>\n      <td>1995</td>\n    </tr>\n    <tr>\n      <th>1</th>\n      <td>2</td>\n      <td>jumanji</td>\n      <td>Adventure|Children's|Fantasy</td>\n      <td>1995</td>\n    </tr>\n    <tr>\n      <th>2</th>\n      <td>3</td>\n      <td>grumpier old men</td>\n      <td>Comedy|Romance</td>\n      <td>1995</td>\n    </tr>\n    <tr>\n      <th>3</th>\n      <td>4</td>\n      <td>waiting to exhale</td>\n      <td>Comedy|Drama</td>\n      <td>1995</td>\n    </tr>\n    <tr>\n      <th>4</th>\n      <td>5</td>\n      <td>father of the bride part ii</td>\n      <td>Comedy</td>\n      <td>1995</td>\n    </tr>\n    <tr>\n      <th>...</th>\n      <td>...</td>\n      <td>...</td>\n      <td>...</td>\n      <td>...</td>\n    </tr>\n    <tr>\n      <th>3878</th>\n      <td>3948</td>\n      <td>meet the parents</td>\n      <td>Comedy</td>\n      <td>2000</td>\n    </tr>\n    <tr>\n      <th>3879</th>\n      <td>3949</td>\n      <td>requiem for a dream</td>\n      <td>Drama</td>\n      <td>2000</td>\n    </tr>\n    <tr>\n      <th>3880</th>\n      <td>3950</td>\n      <td>tigerland</td>\n      <td>Drama</td>\n      <td>2000</td>\n    </tr>\n    <tr>\n      <th>3881</th>\n      <td>3951</td>\n      <td>two family house</td>\n      <td>Drama</td>\n      <td>2000</td>\n    </tr>\n    <tr>\n      <th>3882</th>\n      <td>3952</td>\n      <td>the contender</td>\n      <td>Drama|Thriller</td>\n      <td>2000</td>\n    </tr>\n  </tbody>\n</table>\n<p>3883 rows × 4 columns</p>\n</div>"
     },
     "execution_count": 8,
     "metadata": {},
     "output_type": "execute_result"
    }
   ],
   "source": [
    "def clean_titles(row):\n",
    "    match = re.search(r'\\((\\d{4})\\)$', row)\n",
    "    if match:\n",
    "        year = match.group(1)\n",
    "        title = row[:match.start()].strip()\n",
    "    else:\n",
    "        year = None\n",
    "        title = row\n",
    "    if title.title().split(',')[-1].strip() in ['The', 'A']:\n",
    "        title = (title.title().split(',')[-1].strip() + \" \" + \" \".join(title.title().split(',')[:-1])).strip()\n",
    "\n",
    "    title = title.lower()\n",
    "    return title, year\n",
    "\n",
    "df_movielens[['Title', 'Year']] = df_movielens['Title'].apply(clean_titles).apply(pd.Series)\n",
    "df_movielens"
   ],
   "metadata": {
    "collapsed": false,
    "ExecuteTime": {
     "end_time": "2024-07-07T21:30:23.471443600Z",
     "start_time": "2024-07-07T21:30:23.071585600Z"
    }
   }
  },
  {
   "cell_type": "markdown",
   "source": [
    "We separate the genres and make a one hot encoding on them as feature extraction:"
   ],
   "metadata": {
    "collapsed": false
   }
  },
  {
   "cell_type": "code",
   "execution_count": 9,
   "outputs": [
    {
     "data": {
      "text/plain": "      MovieId                        Title  Year  Action  Adventure  \\\n0           1                    toy story  1995       0          0   \n1           2                      jumanji  1995       0          1   \n2           3             grumpier old men  1995       0          0   \n3           4            waiting to exhale  1995       0          0   \n4           5  father of the bride part ii  1995       0          0   \n...       ...                          ...   ...     ...        ...   \n3878     3948             meet the parents  2000       0          0   \n3879     3949          requiem for a dream  2000       0          0   \n3880     3950                    tigerland  2000       0          0   \n3881     3951             two family house  2000       0          0   \n3882     3952                the contender  2000       0          0   \n\n      Animation  Children's  Comedy  Crime  Documentary  ...  Fantasy  \\\n0             1           1       1      0            0  ...        0   \n1             0           1       0      0            0  ...        1   \n2             0           0       1      0            0  ...        0   \n3             0           0       1      0            0  ...        0   \n4             0           0       1      0            0  ...        0   \n...         ...         ...     ...    ...          ...  ...      ...   \n3878          0           0       1      0            0  ...        0   \n3879          0           0       0      0            0  ...        0   \n3880          0           0       0      0            0  ...        0   \n3881          0           0       0      0            0  ...        0   \n3882          0           0       0      0            0  ...        0   \n\n      Film-Noir  Horror  Musical  Mystery  Romance  Sci-Fi  Thriller  War  \\\n0             0       0        0        0        0       0         0    0   \n1             0       0        0        0        0       0         0    0   \n2             0       0        0        0        1       0         0    0   \n3             0       0        0        0        0       0         0    0   \n4             0       0        0        0        0       0         0    0   \n...         ...     ...      ...      ...      ...     ...       ...  ...   \n3878          0       0        0        0        0       0         0    0   \n3879          0       0        0        0        0       0         0    0   \n3880          0       0        0        0        0       0         0    0   \n3881          0       0        0        0        0       0         0    0   \n3882          0       0        0        0        0       0         1    0   \n\n      Western  \n0           0  \n1           0  \n2           0  \n3           0  \n4           0  \n...       ...  \n3878        0  \n3879        0  \n3880        0  \n3881        0  \n3882        0  \n\n[3883 rows x 21 columns]",
      "text/html": "<div>\n<style scoped>\n    .dataframe tbody tr th:only-of-type {\n        vertical-align: middle;\n    }\n\n    .dataframe tbody tr th {\n        vertical-align: top;\n    }\n\n    .dataframe thead th {\n        text-align: right;\n    }\n</style>\n<table border=\"1\" class=\"dataframe\">\n  <thead>\n    <tr style=\"text-align: right;\">\n      <th></th>\n      <th>MovieId</th>\n      <th>Title</th>\n      <th>Year</th>\n      <th>Action</th>\n      <th>Adventure</th>\n      <th>Animation</th>\n      <th>Children's</th>\n      <th>Comedy</th>\n      <th>Crime</th>\n      <th>Documentary</th>\n      <th>...</th>\n      <th>Fantasy</th>\n      <th>Film-Noir</th>\n      <th>Horror</th>\n      <th>Musical</th>\n      <th>Mystery</th>\n      <th>Romance</th>\n      <th>Sci-Fi</th>\n      <th>Thriller</th>\n      <th>War</th>\n      <th>Western</th>\n    </tr>\n  </thead>\n  <tbody>\n    <tr>\n      <th>0</th>\n      <td>1</td>\n      <td>toy story</td>\n      <td>1995</td>\n      <td>0</td>\n      <td>0</td>\n      <td>1</td>\n      <td>1</td>\n      <td>1</td>\n      <td>0</td>\n      <td>0</td>\n      <td>...</td>\n      <td>0</td>\n      <td>0</td>\n      <td>0</td>\n      <td>0</td>\n      <td>0</td>\n      <td>0</td>\n      <td>0</td>\n      <td>0</td>\n      <td>0</td>\n      <td>0</td>\n    </tr>\n    <tr>\n      <th>1</th>\n      <td>2</td>\n      <td>jumanji</td>\n      <td>1995</td>\n      <td>0</td>\n      <td>1</td>\n      <td>0</td>\n      <td>1</td>\n      <td>0</td>\n      <td>0</td>\n      <td>0</td>\n      <td>...</td>\n      <td>1</td>\n      <td>0</td>\n      <td>0</td>\n      <td>0</td>\n      <td>0</td>\n      <td>0</td>\n      <td>0</td>\n      <td>0</td>\n      <td>0</td>\n      <td>0</td>\n    </tr>\n    <tr>\n      <th>2</th>\n      <td>3</td>\n      <td>grumpier old men</td>\n      <td>1995</td>\n      <td>0</td>\n      <td>0</td>\n      <td>0</td>\n      <td>0</td>\n      <td>1</td>\n      <td>0</td>\n      <td>0</td>\n      <td>...</td>\n      <td>0</td>\n      <td>0</td>\n      <td>0</td>\n      <td>0</td>\n      <td>0</td>\n      <td>1</td>\n      <td>0</td>\n      <td>0</td>\n      <td>0</td>\n      <td>0</td>\n    </tr>\n    <tr>\n      <th>3</th>\n      <td>4</td>\n      <td>waiting to exhale</td>\n      <td>1995</td>\n      <td>0</td>\n      <td>0</td>\n      <td>0</td>\n      <td>0</td>\n      <td>1</td>\n      <td>0</td>\n      <td>0</td>\n      <td>...</td>\n      <td>0</td>\n      <td>0</td>\n      <td>0</td>\n      <td>0</td>\n      <td>0</td>\n      <td>0</td>\n      <td>0</td>\n      <td>0</td>\n      <td>0</td>\n      <td>0</td>\n    </tr>\n    <tr>\n      <th>4</th>\n      <td>5</td>\n      <td>father of the bride part ii</td>\n      <td>1995</td>\n      <td>0</td>\n      <td>0</td>\n      <td>0</td>\n      <td>0</td>\n      <td>1</td>\n      <td>0</td>\n      <td>0</td>\n      <td>...</td>\n      <td>0</td>\n      <td>0</td>\n      <td>0</td>\n      <td>0</td>\n      <td>0</td>\n      <td>0</td>\n      <td>0</td>\n      <td>0</td>\n      <td>0</td>\n      <td>0</td>\n    </tr>\n    <tr>\n      <th>...</th>\n      <td>...</td>\n      <td>...</td>\n      <td>...</td>\n      <td>...</td>\n      <td>...</td>\n      <td>...</td>\n      <td>...</td>\n      <td>...</td>\n      <td>...</td>\n      <td>...</td>\n      <td>...</td>\n      <td>...</td>\n      <td>...</td>\n      <td>...</td>\n      <td>...</td>\n      <td>...</td>\n      <td>...</td>\n      <td>...</td>\n      <td>...</td>\n      <td>...</td>\n      <td>...</td>\n    </tr>\n    <tr>\n      <th>3878</th>\n      <td>3948</td>\n      <td>meet the parents</td>\n      <td>2000</td>\n      <td>0</td>\n      <td>0</td>\n      <td>0</td>\n      <td>0</td>\n      <td>1</td>\n      <td>0</td>\n      <td>0</td>\n      <td>...</td>\n      <td>0</td>\n      <td>0</td>\n      <td>0</td>\n      <td>0</td>\n      <td>0</td>\n      <td>0</td>\n      <td>0</td>\n      <td>0</td>\n      <td>0</td>\n      <td>0</td>\n    </tr>\n    <tr>\n      <th>3879</th>\n      <td>3949</td>\n      <td>requiem for a dream</td>\n      <td>2000</td>\n      <td>0</td>\n      <td>0</td>\n      <td>0</td>\n      <td>0</td>\n      <td>0</td>\n      <td>0</td>\n      <td>0</td>\n      <td>...</td>\n      <td>0</td>\n      <td>0</td>\n      <td>0</td>\n      <td>0</td>\n      <td>0</td>\n      <td>0</td>\n      <td>0</td>\n      <td>0</td>\n      <td>0</td>\n      <td>0</td>\n    </tr>\n    <tr>\n      <th>3880</th>\n      <td>3950</td>\n      <td>tigerland</td>\n      <td>2000</td>\n      <td>0</td>\n      <td>0</td>\n      <td>0</td>\n      <td>0</td>\n      <td>0</td>\n      <td>0</td>\n      <td>0</td>\n      <td>...</td>\n      <td>0</td>\n      <td>0</td>\n      <td>0</td>\n      <td>0</td>\n      <td>0</td>\n      <td>0</td>\n      <td>0</td>\n      <td>0</td>\n      <td>0</td>\n      <td>0</td>\n    </tr>\n    <tr>\n      <th>3881</th>\n      <td>3951</td>\n      <td>two family house</td>\n      <td>2000</td>\n      <td>0</td>\n      <td>0</td>\n      <td>0</td>\n      <td>0</td>\n      <td>0</td>\n      <td>0</td>\n      <td>0</td>\n      <td>...</td>\n      <td>0</td>\n      <td>0</td>\n      <td>0</td>\n      <td>0</td>\n      <td>0</td>\n      <td>0</td>\n      <td>0</td>\n      <td>0</td>\n      <td>0</td>\n      <td>0</td>\n    </tr>\n    <tr>\n      <th>3882</th>\n      <td>3952</td>\n      <td>the contender</td>\n      <td>2000</td>\n      <td>0</td>\n      <td>0</td>\n      <td>0</td>\n      <td>0</td>\n      <td>0</td>\n      <td>0</td>\n      <td>0</td>\n      <td>...</td>\n      <td>0</td>\n      <td>0</td>\n      <td>0</td>\n      <td>0</td>\n      <td>0</td>\n      <td>0</td>\n      <td>0</td>\n      <td>1</td>\n      <td>0</td>\n      <td>0</td>\n    </tr>\n  </tbody>\n</table>\n<p>3883 rows × 21 columns</p>\n</div>"
     },
     "execution_count": 9,
     "metadata": {},
     "output_type": "execute_result"
    }
   ],
   "source": [
    "df_movielens['Genres'] = df_movielens['Genres'].str.split('|')\n",
    "df_movielens_exploded = df_movielens.explode('Genres')\n",
    "df_movielens_ohe = pd.get_dummies(df_movielens_exploded['Genres'])\n",
    "df_movielens_ohe_grouped = df_movielens_ohe.groupby(df_movielens_exploded.index).sum()\n",
    "df_movielens_final = pd.concat([df_movielens.drop(columns=['Genres']), df_movielens_ohe_grouped], axis=1)\n",
    "df_movielens_final"
   ],
   "metadata": {
    "collapsed": false,
    "ExecuteTime": {
     "end_time": "2024-07-07T21:30:23.606221100Z",
     "start_time": "2024-07-07T21:30:23.475972500Z"
    }
   }
  },
  {
   "cell_type": "markdown",
   "source": [
    "We merge the datasets in order to keep only the relevant movies before further working on the dataset. To do so, we decide to do the following:\n",
    "- first, we merge both datasets on title and year\n",
    "- since there are duplicates in the resulting dataset, we remove the duplicates\n",
    "- we drop the `primaryTitle` and `startYear` columns\n",
    "- we fill all NaN in the directors column with an empty line\n",
    "- we one hot encode on the director to have a feature for each director"
   ],
   "metadata": {
    "collapsed": false
   }
  },
  {
   "cell_type": "code",
   "execution_count": 10,
   "outputs": [
    {
     "data": {
      "text/plain": "      MovieId                        Title  Year  Action  Adventure  \\\n0           1                    toy story  1995       0          0   \n1           2                      jumanji  1995       0          1   \n2           3             grumpier old men  1995       0          0   \n3           4            waiting to exhale  1995       0          0   \n4           5  father of the bride part ii  1995       0          0   \n...       ...                          ...   ...     ...        ...   \n3898     3948             meet the parents  2000       0          0   \n3899     3949          requiem for a dream  2000       0          0   \n3900     3950                    tigerland  2000       0          0   \n3901     3951             two family house  2000       0          0   \n3902     3952                the contender  2000       0          0   \n\n      Animation  Children's  Comedy  Crime  Documentary  ...  Film-Noir  \\\n0             1           1       1      0            0  ...          0   \n1             0           1       0      0            0  ...          0   \n2             0           0       1      0            0  ...          0   \n3             0           0       1      0            0  ...          0   \n4             0           0       1      0            0  ...          0   \n...         ...         ...     ...    ...          ...  ...        ...   \n3898          0           0       1      0            0  ...          0   \n3899          0           0       0      0            0  ...          0   \n3900          0           0       0      0            0  ...          0   \n3901          0           0       0      0            0  ...          0   \n3902          0           0       0      0            0  ...          0   \n\n      Horror  Musical  Mystery  Romance  Sci-Fi  Thriller  War  Western  \\\n0          0        0        0        0       0         0    0        0   \n1          0        0        0        0       0         0    0        0   \n2          0        0        0        1       0         0    0        0   \n3          0        0        0        0       0         0    0        0   \n4          0        0        0        0       0         0    0        0   \n...      ...      ...      ...      ...     ...       ...  ...      ...   \n3898       0        0        0        0       0         0    0        0   \n3899       0        0        0        0       0         0    0        0   \n3900       0        0        0        0       0         0    0        0   \n3901       0        0        0        0       0         0    0        0   \n3902       0        0        0        0       0         1    0        0   \n\n      directors  \n0     nm0005124  \n1     nm0002653  \n2     nm0222043  \n3     nm0001845  \n4     nm0796124  \n...         ...  \n3898  nm0005366  \n3899  nm0004716  \n3900  nm0001708  \n3901  nm0208343  \n3902  nm0527109  \n\n[3883 rows x 22 columns]",
      "text/html": "<div>\n<style scoped>\n    .dataframe tbody tr th:only-of-type {\n        vertical-align: middle;\n    }\n\n    .dataframe tbody tr th {\n        vertical-align: top;\n    }\n\n    .dataframe thead th {\n        text-align: right;\n    }\n</style>\n<table border=\"1\" class=\"dataframe\">\n  <thead>\n    <tr style=\"text-align: right;\">\n      <th></th>\n      <th>MovieId</th>\n      <th>Title</th>\n      <th>Year</th>\n      <th>Action</th>\n      <th>Adventure</th>\n      <th>Animation</th>\n      <th>Children's</th>\n      <th>Comedy</th>\n      <th>Crime</th>\n      <th>Documentary</th>\n      <th>...</th>\n      <th>Film-Noir</th>\n      <th>Horror</th>\n      <th>Musical</th>\n      <th>Mystery</th>\n      <th>Romance</th>\n      <th>Sci-Fi</th>\n      <th>Thriller</th>\n      <th>War</th>\n      <th>Western</th>\n      <th>directors</th>\n    </tr>\n  </thead>\n  <tbody>\n    <tr>\n      <th>0</th>\n      <td>1</td>\n      <td>toy story</td>\n      <td>1995</td>\n      <td>0</td>\n      <td>0</td>\n      <td>1</td>\n      <td>1</td>\n      <td>1</td>\n      <td>0</td>\n      <td>0</td>\n      <td>...</td>\n      <td>0</td>\n      <td>0</td>\n      <td>0</td>\n      <td>0</td>\n      <td>0</td>\n      <td>0</td>\n      <td>0</td>\n      <td>0</td>\n      <td>0</td>\n      <td>nm0005124</td>\n    </tr>\n    <tr>\n      <th>1</th>\n      <td>2</td>\n      <td>jumanji</td>\n      <td>1995</td>\n      <td>0</td>\n      <td>1</td>\n      <td>0</td>\n      <td>1</td>\n      <td>0</td>\n      <td>0</td>\n      <td>0</td>\n      <td>...</td>\n      <td>0</td>\n      <td>0</td>\n      <td>0</td>\n      <td>0</td>\n      <td>0</td>\n      <td>0</td>\n      <td>0</td>\n      <td>0</td>\n      <td>0</td>\n      <td>nm0002653</td>\n    </tr>\n    <tr>\n      <th>2</th>\n      <td>3</td>\n      <td>grumpier old men</td>\n      <td>1995</td>\n      <td>0</td>\n      <td>0</td>\n      <td>0</td>\n      <td>0</td>\n      <td>1</td>\n      <td>0</td>\n      <td>0</td>\n      <td>...</td>\n      <td>0</td>\n      <td>0</td>\n      <td>0</td>\n      <td>0</td>\n      <td>1</td>\n      <td>0</td>\n      <td>0</td>\n      <td>0</td>\n      <td>0</td>\n      <td>nm0222043</td>\n    </tr>\n    <tr>\n      <th>3</th>\n      <td>4</td>\n      <td>waiting to exhale</td>\n      <td>1995</td>\n      <td>0</td>\n      <td>0</td>\n      <td>0</td>\n      <td>0</td>\n      <td>1</td>\n      <td>0</td>\n      <td>0</td>\n      <td>...</td>\n      <td>0</td>\n      <td>0</td>\n      <td>0</td>\n      <td>0</td>\n      <td>0</td>\n      <td>0</td>\n      <td>0</td>\n      <td>0</td>\n      <td>0</td>\n      <td>nm0001845</td>\n    </tr>\n    <tr>\n      <th>4</th>\n      <td>5</td>\n      <td>father of the bride part ii</td>\n      <td>1995</td>\n      <td>0</td>\n      <td>0</td>\n      <td>0</td>\n      <td>0</td>\n      <td>1</td>\n      <td>0</td>\n      <td>0</td>\n      <td>...</td>\n      <td>0</td>\n      <td>0</td>\n      <td>0</td>\n      <td>0</td>\n      <td>0</td>\n      <td>0</td>\n      <td>0</td>\n      <td>0</td>\n      <td>0</td>\n      <td>nm0796124</td>\n    </tr>\n    <tr>\n      <th>...</th>\n      <td>...</td>\n      <td>...</td>\n      <td>...</td>\n      <td>...</td>\n      <td>...</td>\n      <td>...</td>\n      <td>...</td>\n      <td>...</td>\n      <td>...</td>\n      <td>...</td>\n      <td>...</td>\n      <td>...</td>\n      <td>...</td>\n      <td>...</td>\n      <td>...</td>\n      <td>...</td>\n      <td>...</td>\n      <td>...</td>\n      <td>...</td>\n      <td>...</td>\n      <td>...</td>\n    </tr>\n    <tr>\n      <th>3898</th>\n      <td>3948</td>\n      <td>meet the parents</td>\n      <td>2000</td>\n      <td>0</td>\n      <td>0</td>\n      <td>0</td>\n      <td>0</td>\n      <td>1</td>\n      <td>0</td>\n      <td>0</td>\n      <td>...</td>\n      <td>0</td>\n      <td>0</td>\n      <td>0</td>\n      <td>0</td>\n      <td>0</td>\n      <td>0</td>\n      <td>0</td>\n      <td>0</td>\n      <td>0</td>\n      <td>nm0005366</td>\n    </tr>\n    <tr>\n      <th>3899</th>\n      <td>3949</td>\n      <td>requiem for a dream</td>\n      <td>2000</td>\n      <td>0</td>\n      <td>0</td>\n      <td>0</td>\n      <td>0</td>\n      <td>0</td>\n      <td>0</td>\n      <td>0</td>\n      <td>...</td>\n      <td>0</td>\n      <td>0</td>\n      <td>0</td>\n      <td>0</td>\n      <td>0</td>\n      <td>0</td>\n      <td>0</td>\n      <td>0</td>\n      <td>0</td>\n      <td>nm0004716</td>\n    </tr>\n    <tr>\n      <th>3900</th>\n      <td>3950</td>\n      <td>tigerland</td>\n      <td>2000</td>\n      <td>0</td>\n      <td>0</td>\n      <td>0</td>\n      <td>0</td>\n      <td>0</td>\n      <td>0</td>\n      <td>0</td>\n      <td>...</td>\n      <td>0</td>\n      <td>0</td>\n      <td>0</td>\n      <td>0</td>\n      <td>0</td>\n      <td>0</td>\n      <td>0</td>\n      <td>0</td>\n      <td>0</td>\n      <td>nm0001708</td>\n    </tr>\n    <tr>\n      <th>3901</th>\n      <td>3951</td>\n      <td>two family house</td>\n      <td>2000</td>\n      <td>0</td>\n      <td>0</td>\n      <td>0</td>\n      <td>0</td>\n      <td>0</td>\n      <td>0</td>\n      <td>0</td>\n      <td>...</td>\n      <td>0</td>\n      <td>0</td>\n      <td>0</td>\n      <td>0</td>\n      <td>0</td>\n      <td>0</td>\n      <td>0</td>\n      <td>0</td>\n      <td>0</td>\n      <td>nm0208343</td>\n    </tr>\n    <tr>\n      <th>3902</th>\n      <td>3952</td>\n      <td>the contender</td>\n      <td>2000</td>\n      <td>0</td>\n      <td>0</td>\n      <td>0</td>\n      <td>0</td>\n      <td>0</td>\n      <td>0</td>\n      <td>0</td>\n      <td>...</td>\n      <td>0</td>\n      <td>0</td>\n      <td>0</td>\n      <td>0</td>\n      <td>0</td>\n      <td>0</td>\n      <td>1</td>\n      <td>0</td>\n      <td>0</td>\n      <td>nm0527109</td>\n    </tr>\n  </tbody>\n</table>\n<p>3883 rows × 22 columns</p>\n</div>"
     },
     "execution_count": 10,
     "metadata": {},
     "output_type": "execute_result"
    }
   ],
   "source": [
    "df_imdb['primaryTitle'] = df_imdb['primaryTitle'].str.lower()\n",
    "df_movies = pd.merge(df_movielens_final, df_imdb, left_on=['Title', 'Year'], right_on=['primaryTitle', 'startYear'], how='left')\n",
    "df_movies = df_movies.drop_duplicates(subset='MovieId', keep='first')\n",
    "df_movies = df_movies.drop(columns=['primaryTitle','startYear'])\n",
    "df_movies['directors'] = df_movies['directors'].fillna('')\n",
    "df_movies"
   ],
   "metadata": {
    "collapsed": false,
    "ExecuteTime": {
     "end_time": "2024-07-07T21:30:24.195494600Z",
     "start_time": "2024-07-07T21:30:23.543947300Z"
    }
   }
  },
  {
   "cell_type": "code",
   "execution_count": 11,
   "outputs": [
    {
     "data": {
      "text/plain": "      MovieId                        Title  Year  Action  Adventure  \\\n0           1                    toy story  1995       0          0   \n1           2                      jumanji  1995       0          1   \n2           3             grumpier old men  1995       0          0   \n3           4            waiting to exhale  1995       0          0   \n4           5  father of the bride part ii  1995       0          0   \n...       ...                          ...   ...     ...        ...   \n3898     3948             meet the parents  2000       0          0   \n3899     3949          requiem for a dream  2000       0          0   \n3900     3950                    tigerland  2000       0          0   \n3901     3951             two family house  2000       0          0   \n3902     3952                the contender  2000       0          0   \n\n      Animation  Children's  Comedy  Crime  Documentary  ...  nm1212046  \\\n0             1           1       1      0            0  ...          0   \n1             0           1       0      0            0  ...          0   \n2             0           0       1      0            0  ...          0   \n3             0           0       1      0            0  ...          0   \n4             0           0       1      0            0  ...          0   \n...         ...         ...     ...    ...          ...  ...        ...   \n3898          0           0       1      0            0  ...          0   \n3899          0           0       0      0            0  ...          0   \n3900          0           0       0      0            0  ...          0   \n3901          0           0       0      0            0  ...          0   \n3902          0           0       0      0            0  ...          0   \n\n      nm1301264  nm15572750  nm15643153  nm1635724  nm1871737  nm1968474  \\\n0             0           0           0          0          0          0   \n1             0           0           0          0          0          0   \n2             0           0           0          0          0          0   \n3             0           0           0          0          0          0   \n4             0           0           0          0          0          0   \n...         ...         ...         ...        ...        ...        ...   \n3898          0           0           0          0          0          0   \n3899          0           0           0          0          0          0   \n3900          0           0           0          0          0          0   \n3901          0           0           0          0          0          0   \n3902          0           0           0          0          0          0   \n\n      nm1969399  nm2259353  nm9054338  \n0             0          0          0  \n1             0          0          0  \n2             0          0          0  \n3             0          0          0  \n4             0          0          0  \n...         ...        ...        ...  \n3898          0          0          0  \n3899          0          0          0  \n3900          0          0          0  \n3901          0          0          0  \n3902          0          0          0  \n\n[3883 rows x 1788 columns]",
      "text/html": "<div>\n<style scoped>\n    .dataframe tbody tr th:only-of-type {\n        vertical-align: middle;\n    }\n\n    .dataframe tbody tr th {\n        vertical-align: top;\n    }\n\n    .dataframe thead th {\n        text-align: right;\n    }\n</style>\n<table border=\"1\" class=\"dataframe\">\n  <thead>\n    <tr style=\"text-align: right;\">\n      <th></th>\n      <th>MovieId</th>\n      <th>Title</th>\n      <th>Year</th>\n      <th>Action</th>\n      <th>Adventure</th>\n      <th>Animation</th>\n      <th>Children's</th>\n      <th>Comedy</th>\n      <th>Crime</th>\n      <th>Documentary</th>\n      <th>...</th>\n      <th>nm1212046</th>\n      <th>nm1301264</th>\n      <th>nm15572750</th>\n      <th>nm15643153</th>\n      <th>nm1635724</th>\n      <th>nm1871737</th>\n      <th>nm1968474</th>\n      <th>nm1969399</th>\n      <th>nm2259353</th>\n      <th>nm9054338</th>\n    </tr>\n  </thead>\n  <tbody>\n    <tr>\n      <th>0</th>\n      <td>1</td>\n      <td>toy story</td>\n      <td>1995</td>\n      <td>0</td>\n      <td>0</td>\n      <td>1</td>\n      <td>1</td>\n      <td>1</td>\n      <td>0</td>\n      <td>0</td>\n      <td>...</td>\n      <td>0</td>\n      <td>0</td>\n      <td>0</td>\n      <td>0</td>\n      <td>0</td>\n      <td>0</td>\n      <td>0</td>\n      <td>0</td>\n      <td>0</td>\n      <td>0</td>\n    </tr>\n    <tr>\n      <th>1</th>\n      <td>2</td>\n      <td>jumanji</td>\n      <td>1995</td>\n      <td>0</td>\n      <td>1</td>\n      <td>0</td>\n      <td>1</td>\n      <td>0</td>\n      <td>0</td>\n      <td>0</td>\n      <td>...</td>\n      <td>0</td>\n      <td>0</td>\n      <td>0</td>\n      <td>0</td>\n      <td>0</td>\n      <td>0</td>\n      <td>0</td>\n      <td>0</td>\n      <td>0</td>\n      <td>0</td>\n    </tr>\n    <tr>\n      <th>2</th>\n      <td>3</td>\n      <td>grumpier old men</td>\n      <td>1995</td>\n      <td>0</td>\n      <td>0</td>\n      <td>0</td>\n      <td>0</td>\n      <td>1</td>\n      <td>0</td>\n      <td>0</td>\n      <td>...</td>\n      <td>0</td>\n      <td>0</td>\n      <td>0</td>\n      <td>0</td>\n      <td>0</td>\n      <td>0</td>\n      <td>0</td>\n      <td>0</td>\n      <td>0</td>\n      <td>0</td>\n    </tr>\n    <tr>\n      <th>3</th>\n      <td>4</td>\n      <td>waiting to exhale</td>\n      <td>1995</td>\n      <td>0</td>\n      <td>0</td>\n      <td>0</td>\n      <td>0</td>\n      <td>1</td>\n      <td>0</td>\n      <td>0</td>\n      <td>...</td>\n      <td>0</td>\n      <td>0</td>\n      <td>0</td>\n      <td>0</td>\n      <td>0</td>\n      <td>0</td>\n      <td>0</td>\n      <td>0</td>\n      <td>0</td>\n      <td>0</td>\n    </tr>\n    <tr>\n      <th>4</th>\n      <td>5</td>\n      <td>father of the bride part ii</td>\n      <td>1995</td>\n      <td>0</td>\n      <td>0</td>\n      <td>0</td>\n      <td>0</td>\n      <td>1</td>\n      <td>0</td>\n      <td>0</td>\n      <td>...</td>\n      <td>0</td>\n      <td>0</td>\n      <td>0</td>\n      <td>0</td>\n      <td>0</td>\n      <td>0</td>\n      <td>0</td>\n      <td>0</td>\n      <td>0</td>\n      <td>0</td>\n    </tr>\n    <tr>\n      <th>...</th>\n      <td>...</td>\n      <td>...</td>\n      <td>...</td>\n      <td>...</td>\n      <td>...</td>\n      <td>...</td>\n      <td>...</td>\n      <td>...</td>\n      <td>...</td>\n      <td>...</td>\n      <td>...</td>\n      <td>...</td>\n      <td>...</td>\n      <td>...</td>\n      <td>...</td>\n      <td>...</td>\n      <td>...</td>\n      <td>...</td>\n      <td>...</td>\n      <td>...</td>\n      <td>...</td>\n    </tr>\n    <tr>\n      <th>3898</th>\n      <td>3948</td>\n      <td>meet the parents</td>\n      <td>2000</td>\n      <td>0</td>\n      <td>0</td>\n      <td>0</td>\n      <td>0</td>\n      <td>1</td>\n      <td>0</td>\n      <td>0</td>\n      <td>...</td>\n      <td>0</td>\n      <td>0</td>\n      <td>0</td>\n      <td>0</td>\n      <td>0</td>\n      <td>0</td>\n      <td>0</td>\n      <td>0</td>\n      <td>0</td>\n      <td>0</td>\n    </tr>\n    <tr>\n      <th>3899</th>\n      <td>3949</td>\n      <td>requiem for a dream</td>\n      <td>2000</td>\n      <td>0</td>\n      <td>0</td>\n      <td>0</td>\n      <td>0</td>\n      <td>0</td>\n      <td>0</td>\n      <td>0</td>\n      <td>...</td>\n      <td>0</td>\n      <td>0</td>\n      <td>0</td>\n      <td>0</td>\n      <td>0</td>\n      <td>0</td>\n      <td>0</td>\n      <td>0</td>\n      <td>0</td>\n      <td>0</td>\n    </tr>\n    <tr>\n      <th>3900</th>\n      <td>3950</td>\n      <td>tigerland</td>\n      <td>2000</td>\n      <td>0</td>\n      <td>0</td>\n      <td>0</td>\n      <td>0</td>\n      <td>0</td>\n      <td>0</td>\n      <td>0</td>\n      <td>...</td>\n      <td>0</td>\n      <td>0</td>\n      <td>0</td>\n      <td>0</td>\n      <td>0</td>\n      <td>0</td>\n      <td>0</td>\n      <td>0</td>\n      <td>0</td>\n      <td>0</td>\n    </tr>\n    <tr>\n      <th>3901</th>\n      <td>3951</td>\n      <td>two family house</td>\n      <td>2000</td>\n      <td>0</td>\n      <td>0</td>\n      <td>0</td>\n      <td>0</td>\n      <td>0</td>\n      <td>0</td>\n      <td>0</td>\n      <td>...</td>\n      <td>0</td>\n      <td>0</td>\n      <td>0</td>\n      <td>0</td>\n      <td>0</td>\n      <td>0</td>\n      <td>0</td>\n      <td>0</td>\n      <td>0</td>\n      <td>0</td>\n    </tr>\n    <tr>\n      <th>3902</th>\n      <td>3952</td>\n      <td>the contender</td>\n      <td>2000</td>\n      <td>0</td>\n      <td>0</td>\n      <td>0</td>\n      <td>0</td>\n      <td>0</td>\n      <td>0</td>\n      <td>0</td>\n      <td>...</td>\n      <td>0</td>\n      <td>0</td>\n      <td>0</td>\n      <td>0</td>\n      <td>0</td>\n      <td>0</td>\n      <td>0</td>\n      <td>0</td>\n      <td>0</td>\n      <td>0</td>\n    </tr>\n  </tbody>\n</table>\n<p>3883 rows × 1788 columns</p>\n</div>"
     },
     "execution_count": 11,
     "metadata": {},
     "output_type": "execute_result"
    }
   ],
   "source": [
    "df_movies['directors'] = df_movies['directors'].str.split(',')\n",
    "df_movies_exploded = df_movies.explode('directors')\n",
    "df_movies_ohe = pd.get_dummies(df_movies_exploded['directors'])\n",
    "df_movies_ohe_grouped = df_movies_ohe.groupby(df_movies_exploded.index).sum()\n",
    "df_final = pd.concat([df_movies.drop(columns=['directors']), df_movies_ohe_grouped], axis=1)\n",
    "df_final"
   ],
   "metadata": {
    "collapsed": false,
    "ExecuteTime": {
     "end_time": "2024-07-07T21:30:24.791241500Z",
     "start_time": "2024-07-07T21:30:24.196497200Z"
    }
   }
  },
  {
   "cell_type": "markdown",
   "source": [
    "Now that we have a proper dataset with a reasonable amount of features, time to add the ratings to the mix. We will create a user-item matrix that will be used by our model. We also normalize the ratings afterwards, once we've replaced all NaN with 0s."
   ],
   "metadata": {
    "collapsed": false
   }
  },
  {
   "cell_type": "code",
   "execution_count": 12,
   "outputs": [
    {
     "data": {
      "text/plain": "MovieId  1     2     3     4     5     6     7     8     9     10    ...  \\\nUserId                                                               ...   \n1         5.0   NaN   NaN   NaN   NaN   NaN   NaN   NaN   NaN   NaN  ...   \n2         NaN   NaN   NaN   NaN   NaN   NaN   NaN   NaN   NaN   NaN  ...   \n3         NaN   NaN   NaN   NaN   NaN   NaN   NaN   NaN   NaN   NaN  ...   \n4         NaN   NaN   NaN   NaN   NaN   NaN   NaN   NaN   NaN   NaN  ...   \n5         NaN   NaN   NaN   NaN   NaN   2.0   NaN   NaN   NaN   NaN  ...   \n...       ...   ...   ...   ...   ...   ...   ...   ...   ...   ...  ...   \n6036      NaN   NaN   NaN   2.0   NaN   3.0   NaN   NaN   NaN   NaN  ...   \n6037      NaN   NaN   NaN   NaN   NaN   NaN   NaN   NaN   NaN   NaN  ...   \n6038      NaN   NaN   NaN   NaN   NaN   NaN   NaN   NaN   NaN   NaN  ...   \n6039      NaN   NaN   NaN   NaN   NaN   NaN   NaN   NaN   NaN   NaN  ...   \n6040      3.0   NaN   NaN   NaN   NaN   NaN   NaN   NaN   NaN   NaN  ...   \n\nMovieId  3943  3944  3945  3946  3947  3948  3949  3950  3951  3952  \nUserId                                                               \n1         NaN   NaN   NaN   NaN   NaN   NaN   NaN   NaN   NaN   NaN  \n2         NaN   NaN   NaN   NaN   NaN   NaN   NaN   NaN   NaN   NaN  \n3         NaN   NaN   NaN   NaN   NaN   NaN   NaN   NaN   NaN   NaN  \n4         NaN   NaN   NaN   NaN   NaN   NaN   NaN   NaN   NaN   NaN  \n5         NaN   NaN   NaN   NaN   NaN   NaN   NaN   NaN   NaN   NaN  \n...       ...   ...   ...   ...   ...   ...   ...   ...   ...   ...  \n6036      NaN   NaN   NaN   NaN   NaN   NaN   NaN   NaN   NaN   NaN  \n6037      NaN   NaN   NaN   NaN   NaN   NaN   NaN   NaN   NaN   NaN  \n6038      NaN   NaN   NaN   NaN   NaN   NaN   NaN   NaN   NaN   NaN  \n6039      NaN   NaN   NaN   NaN   NaN   NaN   NaN   NaN   NaN   NaN  \n6040      NaN   NaN   NaN   NaN   NaN   NaN   NaN   NaN   NaN   NaN  \n\n[6040 rows x 3706 columns]",
      "text/html": "<div>\n<style scoped>\n    .dataframe tbody tr th:only-of-type {\n        vertical-align: middle;\n    }\n\n    .dataframe tbody tr th {\n        vertical-align: top;\n    }\n\n    .dataframe thead th {\n        text-align: right;\n    }\n</style>\n<table border=\"1\" class=\"dataframe\">\n  <thead>\n    <tr style=\"text-align: right;\">\n      <th>MovieId</th>\n      <th>1</th>\n      <th>2</th>\n      <th>3</th>\n      <th>4</th>\n      <th>5</th>\n      <th>6</th>\n      <th>7</th>\n      <th>8</th>\n      <th>9</th>\n      <th>10</th>\n      <th>...</th>\n      <th>3943</th>\n      <th>3944</th>\n      <th>3945</th>\n      <th>3946</th>\n      <th>3947</th>\n      <th>3948</th>\n      <th>3949</th>\n      <th>3950</th>\n      <th>3951</th>\n      <th>3952</th>\n    </tr>\n    <tr>\n      <th>UserId</th>\n      <th></th>\n      <th></th>\n      <th></th>\n      <th></th>\n      <th></th>\n      <th></th>\n      <th></th>\n      <th></th>\n      <th></th>\n      <th></th>\n      <th></th>\n      <th></th>\n      <th></th>\n      <th></th>\n      <th></th>\n      <th></th>\n      <th></th>\n      <th></th>\n      <th></th>\n      <th></th>\n      <th></th>\n    </tr>\n  </thead>\n  <tbody>\n    <tr>\n      <th>1</th>\n      <td>5.0</td>\n      <td>NaN</td>\n      <td>NaN</td>\n      <td>NaN</td>\n      <td>NaN</td>\n      <td>NaN</td>\n      <td>NaN</td>\n      <td>NaN</td>\n      <td>NaN</td>\n      <td>NaN</td>\n      <td>...</td>\n      <td>NaN</td>\n      <td>NaN</td>\n      <td>NaN</td>\n      <td>NaN</td>\n      <td>NaN</td>\n      <td>NaN</td>\n      <td>NaN</td>\n      <td>NaN</td>\n      <td>NaN</td>\n      <td>NaN</td>\n    </tr>\n    <tr>\n      <th>2</th>\n      <td>NaN</td>\n      <td>NaN</td>\n      <td>NaN</td>\n      <td>NaN</td>\n      <td>NaN</td>\n      <td>NaN</td>\n      <td>NaN</td>\n      <td>NaN</td>\n      <td>NaN</td>\n      <td>NaN</td>\n      <td>...</td>\n      <td>NaN</td>\n      <td>NaN</td>\n      <td>NaN</td>\n      <td>NaN</td>\n      <td>NaN</td>\n      <td>NaN</td>\n      <td>NaN</td>\n      <td>NaN</td>\n      <td>NaN</td>\n      <td>NaN</td>\n    </tr>\n    <tr>\n      <th>3</th>\n      <td>NaN</td>\n      <td>NaN</td>\n      <td>NaN</td>\n      <td>NaN</td>\n      <td>NaN</td>\n      <td>NaN</td>\n      <td>NaN</td>\n      <td>NaN</td>\n      <td>NaN</td>\n      <td>NaN</td>\n      <td>...</td>\n      <td>NaN</td>\n      <td>NaN</td>\n      <td>NaN</td>\n      <td>NaN</td>\n      <td>NaN</td>\n      <td>NaN</td>\n      <td>NaN</td>\n      <td>NaN</td>\n      <td>NaN</td>\n      <td>NaN</td>\n    </tr>\n    <tr>\n      <th>4</th>\n      <td>NaN</td>\n      <td>NaN</td>\n      <td>NaN</td>\n      <td>NaN</td>\n      <td>NaN</td>\n      <td>NaN</td>\n      <td>NaN</td>\n      <td>NaN</td>\n      <td>NaN</td>\n      <td>NaN</td>\n      <td>...</td>\n      <td>NaN</td>\n      <td>NaN</td>\n      <td>NaN</td>\n      <td>NaN</td>\n      <td>NaN</td>\n      <td>NaN</td>\n      <td>NaN</td>\n      <td>NaN</td>\n      <td>NaN</td>\n      <td>NaN</td>\n    </tr>\n    <tr>\n      <th>5</th>\n      <td>NaN</td>\n      <td>NaN</td>\n      <td>NaN</td>\n      <td>NaN</td>\n      <td>NaN</td>\n      <td>2.0</td>\n      <td>NaN</td>\n      <td>NaN</td>\n      <td>NaN</td>\n      <td>NaN</td>\n      <td>...</td>\n      <td>NaN</td>\n      <td>NaN</td>\n      <td>NaN</td>\n      <td>NaN</td>\n      <td>NaN</td>\n      <td>NaN</td>\n      <td>NaN</td>\n      <td>NaN</td>\n      <td>NaN</td>\n      <td>NaN</td>\n    </tr>\n    <tr>\n      <th>...</th>\n      <td>...</td>\n      <td>...</td>\n      <td>...</td>\n      <td>...</td>\n      <td>...</td>\n      <td>...</td>\n      <td>...</td>\n      <td>...</td>\n      <td>...</td>\n      <td>...</td>\n      <td>...</td>\n      <td>...</td>\n      <td>...</td>\n      <td>...</td>\n      <td>...</td>\n      <td>...</td>\n      <td>...</td>\n      <td>...</td>\n      <td>...</td>\n      <td>...</td>\n      <td>...</td>\n    </tr>\n    <tr>\n      <th>6036</th>\n      <td>NaN</td>\n      <td>NaN</td>\n      <td>NaN</td>\n      <td>2.0</td>\n      <td>NaN</td>\n      <td>3.0</td>\n      <td>NaN</td>\n      <td>NaN</td>\n      <td>NaN</td>\n      <td>NaN</td>\n      <td>...</td>\n      <td>NaN</td>\n      <td>NaN</td>\n      <td>NaN</td>\n      <td>NaN</td>\n      <td>NaN</td>\n      <td>NaN</td>\n      <td>NaN</td>\n      <td>NaN</td>\n      <td>NaN</td>\n      <td>NaN</td>\n    </tr>\n    <tr>\n      <th>6037</th>\n      <td>NaN</td>\n      <td>NaN</td>\n      <td>NaN</td>\n      <td>NaN</td>\n      <td>NaN</td>\n      <td>NaN</td>\n      <td>NaN</td>\n      <td>NaN</td>\n      <td>NaN</td>\n      <td>NaN</td>\n      <td>...</td>\n      <td>NaN</td>\n      <td>NaN</td>\n      <td>NaN</td>\n      <td>NaN</td>\n      <td>NaN</td>\n      <td>NaN</td>\n      <td>NaN</td>\n      <td>NaN</td>\n      <td>NaN</td>\n      <td>NaN</td>\n    </tr>\n    <tr>\n      <th>6038</th>\n      <td>NaN</td>\n      <td>NaN</td>\n      <td>NaN</td>\n      <td>NaN</td>\n      <td>NaN</td>\n      <td>NaN</td>\n      <td>NaN</td>\n      <td>NaN</td>\n      <td>NaN</td>\n      <td>NaN</td>\n      <td>...</td>\n      <td>NaN</td>\n      <td>NaN</td>\n      <td>NaN</td>\n      <td>NaN</td>\n      <td>NaN</td>\n      <td>NaN</td>\n      <td>NaN</td>\n      <td>NaN</td>\n      <td>NaN</td>\n      <td>NaN</td>\n    </tr>\n    <tr>\n      <th>6039</th>\n      <td>NaN</td>\n      <td>NaN</td>\n      <td>NaN</td>\n      <td>NaN</td>\n      <td>NaN</td>\n      <td>NaN</td>\n      <td>NaN</td>\n      <td>NaN</td>\n      <td>NaN</td>\n      <td>NaN</td>\n      <td>...</td>\n      <td>NaN</td>\n      <td>NaN</td>\n      <td>NaN</td>\n      <td>NaN</td>\n      <td>NaN</td>\n      <td>NaN</td>\n      <td>NaN</td>\n      <td>NaN</td>\n      <td>NaN</td>\n      <td>NaN</td>\n    </tr>\n    <tr>\n      <th>6040</th>\n      <td>3.0</td>\n      <td>NaN</td>\n      <td>NaN</td>\n      <td>NaN</td>\n      <td>NaN</td>\n      <td>NaN</td>\n      <td>NaN</td>\n      <td>NaN</td>\n      <td>NaN</td>\n      <td>NaN</td>\n      <td>...</td>\n      <td>NaN</td>\n      <td>NaN</td>\n      <td>NaN</td>\n      <td>NaN</td>\n      <td>NaN</td>\n      <td>NaN</td>\n      <td>NaN</td>\n      <td>NaN</td>\n      <td>NaN</td>\n      <td>NaN</td>\n    </tr>\n  </tbody>\n</table>\n<p>6040 rows × 3706 columns</p>\n</div>"
     },
     "execution_count": 12,
     "metadata": {},
     "output_type": "execute_result"
    }
   ],
   "source": [
    "df_matrix = df_ratings.pivot(index=\"UserId\", columns=\"MovieId\", values=\"Rating\")\n",
    "df_matrix"
   ],
   "metadata": {
    "collapsed": false,
    "ExecuteTime": {
     "end_time": "2024-07-07T21:30:25.593011700Z",
     "start_time": "2024-07-07T21:30:24.793751800Z"
    }
   }
  },
  {
   "cell_type": "markdown",
   "source": [
    "## Building the model\n",
    "We decide to use collaborative filtering alongside a \"couple rating\", which is the mean of scores of both people on a single movie. The goal is to maximize that score when recommending a movie. We decide to make the following choice: The users are already in the database, and the user simply give the id of the users that want a recommendation. This is because using another completely different person with its own recommendations would not come out as the predictions does not take them into account.\n",
    "\n",
    "We reuse some functions seen during the lessons and available on the utils section of the professor's github page."
   ],
   "metadata": {
    "collapsed": false
   }
  },
  {
   "cell_type": "code",
   "execution_count": 13,
   "outputs": [],
   "source": [
    "def cofi_cost_func_v(X, W, b, Y, R, lambda_):\n",
    "    j = (tf.linalg.matmul(X, tf.transpose(W)) + b - Y) * R\n",
    "    J = 0.5 * tf.reduce_sum(j**2) + (lambda_ / 2) * (\n",
    "        tf.reduce_sum(X**2) + tf.reduce_sum(W**2) + tf.reduce_sum(W**2)\n",
    "    )\n",
    "    return J\n",
    "\n",
    "def normalizeRatings(Y: np.ndarray, R: np.ndarray, axis: int = 1) -> Tuple:\n",
    "    Ymean = (np.sum(Y * R, axis=axis) / (np.sum(R, axis=axis) + 1e-12)).reshape(-1, 1)\n",
    "\n",
    "    if axis == 0:\n",
    "        Ynorm = Y.T - np.multiply(Ymean, R.T)\n",
    "    else:\n",
    "        Ynorm = Y - np.multiply(Ymean, R)\n",
    "\n",
    "    return (Ynorm, Ymean)\n",
    "\n",
    "def split_ratings(\n",
    "    ratings: np.ndarray, val_size: Union[float, int]\n",
    ") -> Tuple[np.ndarray, np.ndarray]:\n",
    "    rows, cols = np.where(ratings > 0)\n",
    "    val_ratings = np.zeros(ratings.shape)\n",
    "    train_ratings = ratings.copy()\n",
    "\n",
    "    if val_size < 1:  # Hence it is a percentage\n",
    "        val_size = int(rows * val_size)\n",
    "\n",
    "    val_ids = random.sample(range(len(rows)), val_size)\n",
    "\n",
    "    for row, col in zip(rows[val_ids], cols[val_ids]):\n",
    "        train_ratings[row, col] = 0\n",
    "        val_ratings[row, col] = ratings[row, col]\n",
    "\n",
    "    return train_ratings, val_ratings"
   ],
   "metadata": {
    "collapsed": false,
    "ExecuteTime": {
     "end_time": "2024-07-07T21:30:25.617129200Z",
     "start_time": "2024-07-07T21:30:25.601547500Z"
    }
   }
  },
  {
   "cell_type": "code",
   "execution_count": 14,
   "outputs": [],
   "source": [
    "R = df_matrix.notna().astype(int).to_numpy()\n",
    "df_matrix = df_matrix.fillna(0)\n",
    "Y = df_matrix.to_numpy()\n",
    "num_movies, num_users = Y.shape\n",
    "df_features = df_final.drop(columns=['Title', 'Year'])\n",
    "num_features = len(df_features.columns)\n",
    "moviesList = df_final['Title'].to_list()\n",
    "\n",
    "Y_train, Y_val = split_ratings(Y, val_size=627)\n",
    "Y_train, Y_test = split_ratings(Y_train, val_size=627)\n",
    "Ynorm, Ymean = normalizeRatings(Y_train, R)"
   ],
   "metadata": {
    "collapsed": false,
    "ExecuteTime": {
     "end_time": "2024-07-07T21:30:27.679654500Z",
     "start_time": "2024-07-07T21:30:25.616127200Z"
    }
   }
  },
  {
   "cell_type": "markdown",
   "source": [
    "We decide to evaluate the prediction using RMSE and the precision, as both can give accurate reading because RMSE is very sensitive to big gaps in data, and the precision is simply a way to get an idea of the overall \"correctness\" of the model."
   ],
   "metadata": {
    "collapsed": false
   }
  },
  {
   "cell_type": "code",
   "execution_count": 16,
   "outputs": [],
   "source": [
    "class Recommender:\n",
    "    def __init__(self, num_users, num_movies, num_features, features):\n",
    "        self.num_users = num_users\n",
    "        self.num_movies = num_movies\n",
    "        self.num_features = num_features\n",
    "        self.features = features\n",
    "\n",
    "        self.mean = None\n",
    "\n",
    "        tf.random.set_seed(1234)  # for consistent results\n",
    "        self.W = tf.Variable(tf.random.normal((self.num_users, self.num_features), dtype=tf.float64), name=\"W\")\n",
    "        self.X = tf.Variable(tf.random.normal((self.num_movies, self.num_features), dtype=tf.float64), name=\"X\")\n",
    "        self.b = tf.Variable(tf.random.normal((1, self.num_users), dtype=tf.float64), name=\"b\")\n",
    "\n",
    "\n",
    "\n",
    "    def fit(self, Y, R, iterations):\n",
    "        optimizer = tf.keras.optimizers.Adam(learning_rate=1e-1)\n",
    "        lambda_ = 1\n",
    "        for iter in range(iterations):\n",
    "            with tf.GradientTape() as tape:\n",
    "                cost_value = cofi_cost_func_v(self.X, self.W, self.b, Y, R, 1)\n",
    "\n",
    "            grads = tape.gradient(cost_value, [self.X, self.W, self.b])\n",
    "\n",
    "            optimizer.apply_gradients(zip(grads, [self.X,self.W, self.b]))\n",
    "            if iter % 20 == 0:\n",
    "                print(f\"Training loss at iteration {iter}: {cost_value:0.1f}\")\n",
    "\n",
    "    def predict(self):\n",
    "        p = np.matmul(self.X.numpy(), np.transpose(self.W.numpy())) + self.b.numpy()\n",
    "        pm = p + self.mean\n",
    "\n",
    "        return pm\n",
    "\n",
    "    def check_metrics(self, Y):\n",
    "        pm = self.predict()\n",
    "\n",
    "        rows, cols = Y.shape()\n",
    "\n",
    "        predicted_ratings = pm[rows, cols]\n",
    "        real_ratings = Y[rows, cols]\n",
    "        rmse = np.sqrt(np.mean((predicted_ratings - real_ratings) ** 2))\n",
    "\n",
    "        # We consider 3 to be an average grade, so all pertinent predictions are above 3\n",
    "        predicted_pertinent = predicted_ratings > 3\n",
    "        real_pertinent = real_ratings > 3\n",
    "\n",
    "        precision = precision_score(real_pertinent, predicted_pertinent)\n",
    "\n",
    "        return precision, rmse\n",
    "\n",
    "    def recommend_movie(self, user_1, user_2):\n",
    "\n",
    "        pm = self.predict()\n",
    "\n",
    "        user_1_ratings = pm[:, user_1]\n",
    "        user_2_ratings = pm[:, user_2]\n",
    "\n",
    "        couple_ratings = (user_1_ratings + user_2_ratings) / 2\n",
    "\n",
    "        couple_scores = []\n",
    "        for i in range(len(couple_ratings)):\n",
    "            couple_scores[i] = couple_ratings[i]\n",
    "\n",
    "        best_choice = max(couple_scores, key=lambda x: x[1])\n",
    "\n",
    "        return best_choice[0]"
   ],
   "metadata": {
    "collapsed": false,
    "ExecuteTime": {
     "end_time": "2024-07-07T21:44:34.172012600Z",
     "start_time": "2024-07-07T21:44:34.155555300Z"
    }
   }
  },
  {
   "cell_type": "code",
   "execution_count": 18,
   "outputs": [
    {
     "ename": "NameError",
     "evalue": "name 'tf' is not defined",
     "output_type": "error",
     "traceback": [
      "\u001B[1;31m---------------------------------------------------------------------------\u001B[0m",
      "\u001B[1;31mNameError\u001B[0m                                 Traceback (most recent call last)",
      "Cell \u001B[1;32mIn[18], line 1\u001B[0m\n\u001B[1;32m----> 1\u001B[0m recommender \u001B[38;5;241m=\u001B[39m \u001B[43mRecommender\u001B[49m\u001B[43m(\u001B[49m\u001B[43mnum_users\u001B[49m\u001B[43m,\u001B[49m\u001B[43m \u001B[49m\u001B[43mnum_movies\u001B[49m\u001B[43m,\u001B[49m\u001B[43m \u001B[49m\u001B[43mnum_features\u001B[49m\u001B[43m,\u001B[49m\u001B[43m \u001B[49m\u001B[43mdf_features\u001B[49m\u001B[43m)\u001B[49m\n\u001B[0;32m      2\u001B[0m recommender\u001B[38;5;241m.\u001B[39mfit(Ynorm, Ymean, R \u001B[38;5;241m*\u001B[39m(Y_train \u001B[38;5;241m>\u001B[39m \u001B[38;5;241m0\u001B[39m), \u001B[38;5;241m400\u001B[39m)\n",
      "Cell \u001B[1;32mIn[16], line 10\u001B[0m, in \u001B[0;36mRecommender.__init__\u001B[1;34m(self, num_users, num_movies, num_features, features)\u001B[0m\n\u001B[0;32m      6\u001B[0m \u001B[38;5;28mself\u001B[39m\u001B[38;5;241m.\u001B[39mfeatures \u001B[38;5;241m=\u001B[39m features\n\u001B[0;32m      8\u001B[0m \u001B[38;5;28mself\u001B[39m\u001B[38;5;241m.\u001B[39mmean \u001B[38;5;241m=\u001B[39m \u001B[38;5;28;01mNone\u001B[39;00m\n\u001B[1;32m---> 10\u001B[0m \u001B[43mtf\u001B[49m\u001B[38;5;241m.\u001B[39mrandom\u001B[38;5;241m.\u001B[39mset_seed(\u001B[38;5;241m1234\u001B[39m)  \u001B[38;5;66;03m# for consistent results\u001B[39;00m\n\u001B[0;32m     11\u001B[0m \u001B[38;5;28mself\u001B[39m\u001B[38;5;241m.\u001B[39mW \u001B[38;5;241m=\u001B[39m tf\u001B[38;5;241m.\u001B[39mVariable(tf\u001B[38;5;241m.\u001B[39mrandom\u001B[38;5;241m.\u001B[39mnormal((\u001B[38;5;28mself\u001B[39m\u001B[38;5;241m.\u001B[39mnum_users, \u001B[38;5;28mself\u001B[39m\u001B[38;5;241m.\u001B[39mnum_features), dtype\u001B[38;5;241m=\u001B[39mtf\u001B[38;5;241m.\u001B[39mfloat64), name\u001B[38;5;241m=\u001B[39m\u001B[38;5;124m\"\u001B[39m\u001B[38;5;124mW\u001B[39m\u001B[38;5;124m\"\u001B[39m)\n\u001B[0;32m     12\u001B[0m \u001B[38;5;28mself\u001B[39m\u001B[38;5;241m.\u001B[39mX \u001B[38;5;241m=\u001B[39m tf\u001B[38;5;241m.\u001B[39mVariable(tf\u001B[38;5;241m.\u001B[39mrandom\u001B[38;5;241m.\u001B[39mnormal((\u001B[38;5;28mself\u001B[39m\u001B[38;5;241m.\u001B[39mnum_movies, \u001B[38;5;28mself\u001B[39m\u001B[38;5;241m.\u001B[39mnum_features), dtype\u001B[38;5;241m=\u001B[39mtf\u001B[38;5;241m.\u001B[39mfloat64), name\u001B[38;5;241m=\u001B[39m\u001B[38;5;124m\"\u001B[39m\u001B[38;5;124mX\u001B[39m\u001B[38;5;124m\"\u001B[39m)\n",
      "\u001B[1;31mNameError\u001B[0m: name 'tf' is not defined"
     ]
    }
   ],
   "source": [
    "recommender = Recommender(num_users, num_movies, num_features, df_features)\n",
    "recommender.fit(Ynorm, Ymean, R *(Y_train > 0), 400)"
   ],
   "metadata": {
    "collapsed": false,
    "ExecuteTime": {
     "end_time": "2024-07-07T21:44:39.641673200Z",
     "start_time": "2024-07-07T21:44:39.606316500Z"
    }
   }
  },
  {
   "cell_type": "code",
   "execution_count": 24,
   "outputs": [
    {
     "ename": "NameError",
     "evalue": "name 'recommender' is not defined",
     "output_type": "error",
     "traceback": [
      "\u001B[1;31m---------------------------------------------------------------------------\u001B[0m",
      "\u001B[1;31mNameError\u001B[0m                                 Traceback (most recent call last)",
      "Cell \u001B[1;32mIn[24], line 1\u001B[0m\n\u001B[1;32m----> 1\u001B[0m movie \u001B[38;5;241m=\u001B[39m \u001B[43mrecommender\u001B[49m\u001B[38;5;241m.\u001B[39mrecommend_movie(\u001B[38;5;241m1\u001B[39m, \u001B[38;5;241m2\u001B[39m)\n\u001B[0;32m      2\u001B[0m movie\n",
      "\u001B[1;31mNameError\u001B[0m: name 'recommender' is not defined"
     ]
    }
   ],
   "source": [
    "movie = recommender.recommend_movie(1, 2)\n",
    "movie"
   ],
   "metadata": {
    "collapsed": false,
    "ExecuteTime": {
     "end_time": "2024-07-07T21:47:23.113882200Z",
     "start_time": "2024-07-07T21:47:23.082057600Z"
    }
   }
  }
 ],
 "metadata": {
  "kernelspec": {
   "display_name": "Python 3",
   "language": "python",
   "name": "python3"
  },
  "language_info": {
   "codemirror_mode": {
    "name": "ipython",
    "version": 2
   },
   "file_extension": ".py",
   "mimetype": "text/x-python",
   "name": "python",
   "nbconvert_exporter": "python",
   "pygments_lexer": "ipython2",
   "version": "2.7.6"
  }
 },
 "nbformat": 4,
 "nbformat_minor": 0
}
